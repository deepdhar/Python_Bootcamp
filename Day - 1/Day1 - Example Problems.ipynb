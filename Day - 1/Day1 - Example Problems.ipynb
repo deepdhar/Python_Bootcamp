{
 "cells": [
  {
   "cell_type": "markdown",
   "metadata": {},
   "source": [
    "### Fizz Buzz is a very simple programming task, asked in software developer job interviews.\n",
    "\n",
    "**A typical round of Fizz Buzz can be:**\n",
    "\n",
    "Write a program that prints the numbers from 1 to x(user given) and for multiples of ‘3’ print “Fizz” instead of the number, for the multiples of ‘5’ print “Buzz” and for multiples of ‘3 and 5’ both print “FizzBuzz”."
   ]
  },
  {
   "cell_type": "code",
   "execution_count": 3,
   "metadata": {},
   "outputs": [
    {
     "name": "stdout",
     "output_type": "stream",
     "text": [
      "Enter the range: from 1 to : 15\n",
      "1\n",
      "2\n",
      "Fizz\n",
      "4\n",
      "Buzz\n",
      "Fizz\n",
      "7\n",
      "8\n",
      "Fizz\n",
      "Buzz\n",
      "11\n",
      "Fizz\n",
      "13\n",
      "14\n",
      "FizzBuzz\n"
     ]
    }
   ],
   "source": [
    "# FizzBuzz\n",
    "\n",
    "number = int(input(\"Enter the range: from 1 to : \"))    # takes the number from user\n",
    "\n",
    "for i in range(1, number+1):\n",
    "# a \"for loop\" which executes from 1 and ends at number given by => range(1,number+1) = [1, number+1)\n",
    "    if (i%15==0):    # for checking the number divisible by both 3 and 5\n",
    "        print(\"FizzBuzz\")\n",
    "    elif(i%3==0):    # for checking the number divisible by 3\n",
    "        print(\"Fizz\")\n",
    "    elif(i%5==0):    # for checking the number divisible by 5\n",
    "        print(\"Buzz\")\n",
    "    else:        # when the number is neither divisible by 3 nor 5\n",
    "        print(i)"
   ]
  },
  {
   "cell_type": "markdown",
   "metadata": {},
   "source": [
    "### Write a program that returns the sum of digits of a number."
   ]
  },
  {
   "cell_type": "code",
   "execution_count": 5,
   "metadata": {},
   "outputs": [
    {
     "name": "stdout",
     "output_type": "stream",
     "text": [
      "Enter the number: 123\n",
      "Sum of digits of 123 is 6.\n"
     ]
    }
   ],
   "source": [
    "# program that returns the sum of digits of a number\n",
    "\n",
    "number = int(input(\"Enter the number: \"))    # takes the number from user\n",
    "\n",
    "temp=number    # stores the number in a new variable in order to manipulate \n",
    "               # that new variable without disturbing the original variable\n",
    "\n",
    "summ = 0       # default value of summ = 0\n",
    "    \n",
    "while(temp!=0):\n",
    "    remainder = temp%10  # gets the ones place digit\n",
    "    summ += remainder    # adds the digit into existing sum\n",
    "    temp//=10            # to get number excluding the ones place\n",
    "    \n",
    "print(f'Sum of digits of {number} is {summ}.')"
   ]
  },
  {
   "cell_type": "markdown",
   "metadata": {},
   "source": [
    "### [Chef Wars - Return of the Jedi | Problem Code: CHEFWARS](https://www.codechef.com/AUG20B/problems/CHEFWARS)\n",
    "\n",
    "<hr>\n",
    "\n",
    "On the ice planet Hoth, Chef has run into his arch-nemesis, DarthForces. Darth has a peculiar fighting style ― he does not attack, but simply defends and lets his opponent tire himself out.\n",
    "\n",
    "Chef has a lightsaber which has an *attack power* denoted by ***P***. He  keeps hitting Darth with the lightsaber. Every time he hits, Darth's health decreases by the current attack power of the lightsaber (by ***P*** points),  and afterwards, ***P*** decrease to **[P/2]**.\n",
    "\n",
    "If the attack power becomes **0** before Darth's health becomes **0** or less, Chef dies. Otherwise, Darth dies. You are given Darth's initial health ***H*** and the initial attack power ***P***. Tell Chef if he can beat Darth or if he should escape.\n",
    "\n",
    "<hr>\n",
    "\n",
    "#### Input\n",
    "\n",
    "* The first line of the input contains a single integer ***T*** denoting the number of test cases. The description of ***T*** test cases follows.\n",
    "\n",
    "* The first and only line of each test case contains two space-separated integers ***H*** and ***P***.\n",
    "\n",
    "<hr>\n",
    "\n",
    "#### Output\n",
    "\n",
    "For each test case, print a single line containing the integer **1** if Chef can beat Darth or **0** otherwise.\n",
    "\n",
    "<hr>\n",
    "\n",
    "#### Example Input\n",
    "```\n",
    "2\n",
    "10 4\n",
    "10 8\n",
    "```\n",
    "\n",
    "<hr>\n",
    "\n",
    "#### Example Output\n",
    "```\n",
    "0\n",
    "1\n",
    "```\n",
    "\n",
    "<hr>\n",
    "\n",
    "#### Explanation\n",
    "\n",
    "**Example case 1:** Chef attacks with power **4**, Darth's health becomes **6**. Chef attacks with power **2**, Darth's health becomes **4**. Chef attacks with power **1** and Darth's health becomes **3**, but Chef's attack power becomes **0**.\n",
    "\n",
    "**Example case 2:** Chef attacks with power **8**, Darth's health becomes **2**. Chef attacks with power **4**, Darth's health becomes **0**. Chef kills Darth."
   ]
  },
  {
   "cell_type": "code",
   "execution_count": 8,
   "metadata": {},
   "outputs": [
    {
     "name": "stdout",
     "output_type": "stream",
     "text": [
      "2\n",
      "10 4\n",
      "0\n",
      "10 8\n",
      "1\n"
     ]
    }
   ],
   "source": [
    "# Chef Wars - Return of the Jedi | Problem Code: CHEFWARS\n",
    "\n",
    "T = int(input())\n",
    "\n",
    "while(T!=0):\n",
    "    H,P = map(int, input().split(\" \"))\n",
    "    while(H>0 and P!=0):\n",
    "        H-=P\n",
    "        P//=2\n",
    "    if(H<=0):\n",
    "        print(1)\n",
    "    else:\n",
    "        print(0)\n",
    "    T-=1"
   ]
  }
 ],
 "metadata": {
  "kernelspec": {
   "display_name": "Python 3",
   "language": "python",
   "name": "python3"
  },
  "language_info": {
   "codemirror_mode": {
    "name": "ipython",
    "version": 3
   },
   "file_extension": ".py",
   "mimetype": "text/x-python",
   "name": "python",
   "nbconvert_exporter": "python",
   "pygments_lexer": "ipython3",
   "version": "3.7.6"
  }
 },
 "nbformat": 4,
 "nbformat_minor": 4
}
